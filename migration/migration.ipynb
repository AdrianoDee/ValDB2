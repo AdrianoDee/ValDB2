{
 "cells": [
  {
   "cell_type": "markdown",
   "id": "87677bc9-6770-4997-b0aa-c285c02cf842",
   "metadata": {},
   "source": [
    "# Data migration"
   ]
  },
  {
   "cell_type": "markdown",
   "id": "3f16cdfa-ead8-4333-ae28-ca0448e0287a",
   "metadata": {},
   "source": [
    "## Required imports"
   ]
  },
  {
   "cell_type": "markdown",
   "id": "8ca3d0b9-2343-46ec-9a06-5d3a0fbf82de",
   "metadata": {},
   "source": [
    "Remember to install all packages required inside your working virtual Python environment"
   ]
  },
  {
   "cell_type": "code",
   "execution_count": 1,
   "id": "eb2d19ec-7acd-4e22-b667-56a8405c88c0",
   "metadata": {
    "tags": []
   },
   "outputs": [],
   "source": [
    "import pandas\n",
    "import sqlalchemy\n",
    "import json\n",
    "import numpy\n",
    "import requests\n",
    "import re\n",
    "from copy import deepcopy\n",
    "from http.cookiejar import CookieJar, MozillaCookieJar\n",
    "from tqdm.notebook import tqdm\n",
    "from datetime import date, datetime\n",
    "from dateutil.relativedelta import relativedelta"
   ]
  },
  {
   "cell_type": "markdown",
   "id": "1df62480-5b03-4da9-8853-e7e98a6f41fd",
   "metadata": {},
   "source": [
    "## Oracle Client Libraries\n",
    "\n",
    "To use **cx_Oracle connector**, it is required to install some libraries inside the execution environment: [Oracle Client Library](https://oracle.github.io/odpi/doc/installation.html#oracle-client-library-loading). Please install them and set the required environment variables before running this notebook"
   ]
  },
  {
   "cell_type": "markdown",
   "id": "854d51d7-523e-47ad-a4ac-4fae9f2bb471",
   "metadata": {
    "tags": []
   },
   "source": [
    "## Constants"
   ]
  },
  {
   "cell_type": "markdown",
   "id": "1f1b0cc9-13ca-4b68-a618-f088323af8c6",
   "metadata": {},
   "source": [
    "Custom JSON parser"
   ]
  },
  {
   "cell_type": "code",
   "execution_count": 2,
   "id": "bfeb906d-5257-4f1b-920d-6832db71a44d",
   "metadata": {
    "tags": []
   },
   "outputs": [],
   "source": [
    "def parse(obj):\n",
    "    \"\"\"JSON serializer for objects not serializable by default json code\"\"\"\n",
    "    if isinstance(obj, (datetime, date)):\n",
    "        return obj.isoformat()\n",
    "    if isinstance(obj, set):\n",
    "        return list(obj)\n",
    "    raise TypeError (\"Type %s not serializable\" % type(obj))"
   ]
  },
  {
   "cell_type": "markdown",
   "id": "89f989bd-4dec-4e5e-82b7-1c02afe85599",
   "metadata": {},
   "source": [
    "Migration campaign reference"
   ]
  },
  {
   "cell_type": "code",
   "execution_count": 3,
   "id": "7d74c5e3-01b5-4755-9713-f137296e52f5",
   "metadata": {
    "tags": []
   },
   "outputs": [],
   "source": [
    "DATE_REFERENCE = (datetime.now() - relativedelta(months=2)).date()"
   ]
  },
  {
   "cell_type": "markdown",
   "id": "283cf30d-cd4b-4f8e-b165-6ed5467c38fd",
   "metadata": {},
   "source": [
    "Email pattern"
   ]
  },
  {
   "cell_type": "code",
   "execution_count": 4,
   "id": "137e109e-3d7d-4199-9180-5e7bc93df5f7",
   "metadata": {
    "tags": []
   },
   "outputs": [],
   "source": [
    "EMAIL_REGEX = r\"(^[a-zA-Z0-9_.+-]+@[a-zA-Z0-9-]+\\.[a-zA-Z0-9-.]+)\"\n",
    "email_regex = re.compile(EMAIL_REGEX)"
   ]
  },
  {
   "cell_type": "markdown",
   "id": "8e943d85-e77b-4e05-8ee6-49e82d2660af",
   "metadata": {},
   "source": [
    "Retrieve the email address if this exists inside a string, return empty string otherwise"
   ]
  },
  {
   "cell_type": "code",
   "execution_count": 5,
   "id": "6b38d37b-9dbb-4b5d-b53b-9e4b6460ca9e",
   "metadata": {
    "tags": []
   },
   "outputs": [],
   "source": [
    "def sanetize_email(pattern: re.Pattern, email: str) -> str:\n",
    "    result = pattern.search(email)\n",
    "    if not result:\n",
    "        return \"\"\n",
    "    return result[0]"
   ]
  },
  {
   "cell_type": "markdown",
   "id": "ca117b0b-ed31-4f02-856c-87c8202acffb",
   "metadata": {},
   "source": [
    "Groups identifiers retrieved from: [groups.py](https://github.com/cms-PdmV/ValDB2/blob/main/data/group.py)"
   ]
  },
  {
   "cell_type": "code",
   "execution_count": 6,
   "id": "a048e100-fb6c-4ee1-99c1-886193f6d4de",
   "metadata": {
    "tags": []
   },
   "outputs": [],
   "source": [
    "uppercase = lambda str_list: [el.strip().upper() for el in str_list]\n",
    "dict_token = lambda token_list: dict(zip(uppercase(token_list), token_list))"
   ]
  },
  {
   "cell_type": "code",
   "execution_count": 7,
   "id": "e12c2cd4-9416-4240-a5cf-1717a551d371",
   "metadata": {
    "tags": []
   },
   "outputs": [],
   "source": [
    "# Tokens for fast parsing\n",
    "# Categories\n",
    "CATEGORIES = [\"Reconstruction\", \"HLT\", \"PAGs\", \"HIN\", \"GEN\"]\n",
    "CATEGORIES_TOKENS = dict_token(CATEGORIES)\n",
    "\n",
    "# Subcategories\n",
    "SUBCATEGORIES = [\"Data\", \"FastSim\", \"FullSim\", \"Gen\"]\n",
    "SUBCATEGORIES_TOKENS = dict_token(SUBCATEGORIES)\n",
    "\n",
    "# Groups\n",
    "reconstruction_groups = ['Tracker', 'Ecal', 'HGcal', 'Hcal', 'CASTOR', 'DT', 'CSC', 'RPC', 'GEM',\n",
    "    'MTD', 'PPS', 'L1', 'Tracking', 'Electron', 'Photon', 'Muon', 'Jet', 'MET', 'bTag', 'Tau',\n",
    "    'PF'\n",
    "]\n",
    "hlt_groups = ['Tracking', 'Electron', 'Photon', 'Muon', 'Jet', 'MET', 'bTag', 'Tau', 'SMP',\n",
    "    'Higgs', 'Top', 'Susy', 'Exotica', 'B2G', 'B', 'Fwd', 'HIN'\n",
    "]\n",
    "pags_groups = ['SMP', 'Higgs', 'Top', 'Susy', 'Exotica', 'B2G', 'B', 'Fwd', 'HIN']\n",
    "hin_groups = ['Tracking', 'Electron', 'Photon', 'Muon', 'Jet']\n",
    "gen_groups = ['GEN']\n",
    "\n",
    "GROUPS = set(reconstruction_groups + hlt_groups + pags_groups + hin_groups + gen_groups)\n",
    "GROUPS_TOKENS = dict_token(GROUPS)"
   ]
  },
  {
   "cell_type": "markdown",
   "id": "c858dc60-398d-4879-9ec4-9c570da7b764",
   "metadata": {},
   "source": [
    "Be carefull, for some reason it seems **HIN** category has two main identifiers: **HIN** & **IN** -> [Details](https://github.com/cms-PdmV/ValDB/blob/master/ajax_app.py#L489). This is the same case for **TK** group which means **TRACKER**"
   ]
  },
  {
   "cell_type": "code",
   "execution_count": 8,
   "id": "5cfea8c2-ab8f-4bf1-b0e0-4445ab7dc9a7",
   "metadata": {
    "tags": []
   },
   "outputs": [],
   "source": [
    "def parse_group_id(category: str, subcategory: str, status_kind: str = None) -> str:\n",
    "        # Retrieve proper identifiers using \n",
    "        # the available tokens\n",
    "        # Be aware of some special cases\n",
    "        if category == \"IN\":\n",
    "            category = \"HIN\"\n",
    "        if status_kind == \"TK\":\n",
    "            status_kind = \"TRACKER\"\n",
    "\n",
    "        category = CATEGORIES_TOKENS[category.upper()]\n",
    "        subcategory = SUBCATEGORIES_TOKENS[subcategory.upper()]\n",
    "        if status_kind:\n",
    "            status_kind = GROUPS_TOKENS[status_kind.upper()]\n",
    "            return \".\".join([category, subcategory, status_kind])\n",
    "        else:\n",
    "            return \".\".join([category, subcategory])"
   ]
  },
  {
   "cell_type": "markdown",
   "id": "f1d025a6-4ed0-432a-871f-7184dbec5627",
   "metadata": {},
   "source": [
    "Tokens to parse report status"
   ]
  },
  {
   "cell_type": "code",
   "execution_count": 9,
   "id": "b10c02d0-529a-4b3e-a20c-f794d49874d8",
   "metadata": {
    "tags": []
   },
   "outputs": [],
   "source": [
    "REPORT_STATUS = {\n",
    "    \"NOT YET DONE\": 2,\n",
    "    \"OK\": 1,\n",
    "    \"OK TO BE SIGNED-OFF BY THE VALIDATORS\": 1,\n",
    "    \"FAILURE\": 3,\n",
    "    \"CHANGES EXPECTED\": 4,\n",
    "    \"IN PROGRESS\": 5,\n",
    "    \"KNOWN ISSUE\": 6\n",
    "}"
   ]
  },
  {
   "cell_type": "markdown",
   "id": "cc70b000-5f1f-4b8f-b5e8-2151e1d4d0d7",
   "metadata": {},
   "source": [
    "## Working variables"
   ]
  },
  {
   "cell_type": "code",
   "execution_count": 10,
   "id": "f1e7d551-c48d-4460-82fc-25a14c52fc5f",
   "metadata": {
    "tags": []
   },
   "outputs": [],
   "source": [
    "CREDENTIALS_PATH = \"./data/credentials.json\""
   ]
  },
  {
   "cell_type": "markdown",
   "id": "7189bbdf-f998-48de-b155-0e6bfc2f681e",
   "metadata": {
    "tags": []
   },
   "source": [
    "Import database credentials"
   ]
  },
  {
   "cell_type": "code",
   "execution_count": 11,
   "id": "962173bf-096d-4b7c-a4bb-a69aeeb8eb99",
   "metadata": {
    "tags": []
   },
   "outputs": [],
   "source": [
    "with open(file=CREDENTIALS_PATH, encoding=\"utf-8\", mode=\"r\") as cf:\n",
    "    credentials = json.load(cf)"
   ]
  },
  {
   "cell_type": "markdown",
   "id": "19169d2e-6d97-4273-9732-7a58d380d388",
   "metadata": {},
   "source": [
    "Import cookies to authenticate to send requests to the server"
   ]
  },
  {
   "cell_type": "code",
   "execution_count": 12,
   "id": "50c6409c-1a32-4147-82a1-a8abb3c65a69",
   "metadata": {
    "tags": []
   },
   "outputs": [],
   "source": [
    "cookies = MozillaCookieJar(credentials[\"new\"][\"cookie_location\"])\n",
    "cookies.load()"
   ]
  },
  {
   "cell_type": "markdown",
   "id": "f8be1877-4157-4cbe-b3f3-1bd7107a5b22",
   "metadata": {},
   "source": [
    "Connection URI for SQLAlchemy"
   ]
  },
  {
   "cell_type": "code",
   "execution_count": 13,
   "id": "6d3eb3ec-151b-42b5-b67f-ace3e7d247ba",
   "metadata": {
    "tags": []
   },
   "outputs": [],
   "source": [
    "prod_db_user = credentials['old']['database_username']\n",
    "prod_db_password = credentials['old']['database_password']\n",
    "prod_db = credentials['old']['database_url']\n",
    "prob_db_service = credentials['old']['database_service']\n",
    "prod_db_uri = f\"oracle+cx_oracle://{prod_db_user}:{prod_db_password}@{prod_db}/?service_name={prob_db_service}\""
   ]
  },
  {
   "cell_type": "markdown",
   "id": "8395f38e-cd8c-452c-ac72-329a9246b6df",
   "metadata": {},
   "source": [
    "Create a SQLAlchemy Session"
   ]
  },
  {
   "cell_type": "code",
   "execution_count": 14,
   "id": "18e241b6-990f-446c-8b02-3196f5c0f616",
   "metadata": {
    "tags": []
   },
   "outputs": [],
   "source": [
    "engine = sqlalchemy.create_engine(prod_db_uri, arraysize=1000)"
   ]
  },
  {
   "cell_type": "markdown",
   "id": "9bd6d24e-7a32-4091-bf5a-87bcf941c8b4",
   "metadata": {},
   "source": [
    "## Retrieve data using Pandas and SQL queries"
   ]
  },
  {
   "cell_type": "markdown",
   "id": "1e17ab62-75d7-4204-91e7-2995723547f7",
   "metadata": {},
   "source": [
    "### Validators"
   ]
  },
  {
   "cell_type": "markdown",
   "id": "b23d5460-f8a4-477e-902e-568391cd4c38",
   "metadata": {},
   "source": [
    "Retrieve all user data related to validators"
   ]
  },
  {
   "cell_type": "code",
   "execution_count": 15,
   "id": "f04ae3e5-899e-403c-b0d3-9a7a2c5735b7",
   "metadata": {},
   "outputs": [],
   "source": [
    "user_get_query = \"\"\"\n",
    "SELECT U.USER_NAME, U.EMAIL, U.ADMIN, U.VALIDATOR, UR.CATEGORY, UR.SUBCATEGORY,\tUR.STATUS_KIND\n",
    "FROM CMS_PDMV_VAL.USERS U, CMS_PDMV_VAL.USER_RIGHTS UR\n",
    "WHERE U.USER_NAME = UR.USER_NAME AND U.ADMIN = 0 AND U.VALIDATOR = 1\n",
    "\"\"\""
   ]
  },
  {
   "cell_type": "markdown",
   "id": "c065d316-db00-48cb-9936-6189c7de74fc",
   "metadata": {},
   "source": [
    "Execute the query using Pandas"
   ]
  },
  {
   "cell_type": "code",
   "execution_count": 16,
   "id": "baf22b79-749e-406f-91fa-427f5ede8a8e",
   "metadata": {
    "tags": []
   },
   "outputs": [],
   "source": [
    "user_data: pandas.DataFrame = pandas.read_sql(user_get_query, engine)"
   ]
  },
  {
   "cell_type": "markdown",
   "id": "b3491f65-6be8-453c-ad50-bfe6d3ecd99a",
   "metadata": {},
   "source": [
    "Remove all rows where the username has more than 8 characters"
   ]
  },
  {
   "cell_type": "code",
   "execution_count": 17,
   "id": "2e91bac6-6fd0-4350-b0f7-a3d9fe8175c2",
   "metadata": {
    "tags": []
   },
   "outputs": [],
   "source": [
    "user_data = user_data[(user_data[\"user_name\"].str.len() <= 8) & (user_data[\"user_name\"].str.len() > 0)]"
   ]
  },
  {
   "cell_type": "markdown",
   "id": "0f681792-03c8-435e-a151-617b87ea987a",
   "metadata": {},
   "source": [
    "Sanetize email information"
   ]
  },
  {
   "cell_type": "code",
   "execution_count": 18,
   "id": "f2c142cd-840a-4c5a-97df-8ec4ba8e8ec9",
   "metadata": {
    "tags": []
   },
   "outputs": [],
   "source": [
    "user_data[\"email\"] = user_data[\"email\"].apply(lambda email: sanetize_email(pattern=email_regex, email=email))"
   ]
  },
  {
   "cell_type": "markdown",
   "id": "557b097e-3734-4b61-a512-a93ed91fbaa2",
   "metadata": {},
   "source": [
    "Prepare user insertion schema. For instance"
   ]
  },
  {
   "cell_type": "code",
   "execution_count": 19,
   "id": "e0221d66-ff2c-411d-8eaa-d0dc28850563",
   "metadata": {
    "tags": []
   },
   "outputs": [],
   "source": [
    "%%capture\n",
    "{\n",
    "    \"role\": 3,\n",
    "    \"email\": \"example@example.com\",\n",
    "    \"fullname\": \"John Doe\",\n",
    "    \"groups\": []\n",
    "}"
   ]
  },
  {
   "cell_type": "markdown",
   "id": "8a6b73be-830d-44bd-baa5-2f080d39bd7e",
   "metadata": {},
   "source": [
    "Group all user categories, subcategories and status kind per user"
   ]
  },
  {
   "cell_type": "code",
   "execution_count": 20,
   "id": "063e8a39-b1b8-4831-a72d-e333b73cb5da",
   "metadata": {
    "tags": []
   },
   "outputs": [],
   "source": [
    "def parse_validators_schema(user_data: pandas.DataFrame) -> dict:\n",
    "    validators = {}\n",
    "    schema = {\n",
    "        \"role\": 2,\n",
    "        \"email\": \"\",\n",
    "        # Sometimes, we could set this by parsing the email.\n",
    "        # For this moment, just left it empty\n",
    "        \"fullname\": None,\n",
    "        \"groups\": []\n",
    "    }\n",
    "    user_data_json = user_data.to_dict(orient=\"records\")\n",
    "    for row in user_data_json:        \n",
    "        current_user_name = row[\"user_name\"]\n",
    "        current_user = validators.get(current_user_name)\n",
    "        if not current_user:\n",
    "            current_user = deepcopy(schema)\n",
    "            current_user[\"email\"] = row[\"email\"]\n",
    "        \n",
    "        # Build group identifier\n",
    "        category = row[\"category\"]\n",
    "        subcategory = row[\"subcategory\"]\n",
    "        status_kind = row[\"status_kind\"]\n",
    "        \n",
    "        # Build Group Identifier\n",
    "        group_id = parse_group_id(\n",
    "            category=category,\n",
    "            subcategory=subcategory,\n",
    "            status_kind=status_kind\n",
    "        )\n",
    "        current_user[\"groups\"].append(group_id)\n",
    "        \n",
    "        # Persist for next iteration\n",
    "        validators[current_user_name] = current_user\n",
    "        \n",
    "    return validators"
   ]
  },
  {
   "cell_type": "code",
   "execution_count": 21,
   "id": "eb56340c-c58e-4a77-8a78-0622c3730962",
   "metadata": {
    "tags": []
   },
   "outputs": [],
   "source": [
    "user_data_parsed = parse_validators_schema(user_data=user_data)"
   ]
  },
  {
   "cell_type": "markdown",
   "id": "dcdc9008-67fc-45c6-9681-921a514523ff",
   "metadata": {},
   "source": [
    "Insert all validator users"
   ]
  },
  {
   "cell_type": "code",
   "execution_count": 22,
   "id": "79feb546-e7de-4377-8748-60926fcd7a28",
   "metadata": {
    "tags": []
   },
   "outputs": [],
   "source": [
    "valdb_new_url = credentials[\"new\"][\"host_url\"]\n",
    "valdb_users = f\"{valdb_new_url}/api/users/\"\n",
    "valdb_validator_mig_errors = {}\n",
    "for username, info in user_data_parsed.items():    \n",
    "    response = requests.post(url=valdb_users, json=info, cookies=cookies)\n",
    "    if response.status_code != 200:\n",
    "        valdb_validator_mig_errors[username] = {\n",
    "            \"body\": info,\n",
    "            \"response\": response\n",
    "        }"
   ]
  },
  {
   "cell_type": "markdown",
   "id": "88f4d2ea-2328-429b-86c4-925d362ca369",
   "metadata": {},
   "source": [
    "Display errors if they happened"
   ]
  },
  {
   "cell_type": "code",
   "execution_count": 23,
   "id": "af78de38-1514-4c1c-8f39-85bfd83dd4d8",
   "metadata": {
    "tags": []
   },
   "outputs": [
    {
     "name": "stdout",
     "output_type": "stream",
     "text": [
      "Validator user migration successfully\n"
     ]
    }
   ],
   "source": [
    "if not valdb_validator_mig_errors:\n",
    "    print(\"Validator user migration successfully\")\n",
    "else:\n",
    "    for user, report in valdb_validator_mig_errors.items():\n",
    "        print(f\"Issues migrating user: {user} information\")\n",
    "        print(\"Request body sent\")\n",
    "        print(report)"
   ]
  },
  {
   "cell_type": "markdown",
   "id": "8568f4d6-0526-43b3-a0ca-96c650f689a6",
   "metadata": {},
   "source": [
    "### Administrators"
   ]
  },
  {
   "cell_type": "code",
   "execution_count": 24,
   "id": "4f866671-069d-4974-a913-c9455974efb7",
   "metadata": {
    "tags": []
   },
   "outputs": [],
   "source": [
    "admins_get_query = \"\"\"\n",
    "SELECT U.USER_NAME, U.EMAIL, U.ADMIN, U.VALIDATOR\n",
    "FROM CMS_PDMV_VAL.USERS U\n",
    "WHERE U.ADMIN = 1\n",
    "\"\"\""
   ]
  },
  {
   "cell_type": "code",
   "execution_count": 25,
   "id": "9da93c88-7e0e-45de-a033-2b441bea4d2c",
   "metadata": {
    "tags": []
   },
   "outputs": [],
   "source": [
    "def parse_administrator_schema(user_data: pandas.DataFrame) -> dict:\n",
    "    admins = {}\n",
    "    schema = {\n",
    "        \"role\": 1,\n",
    "        \"email\": \"\",\n",
    "        \"fullname\": None,\n",
    "        \"groups\": []\n",
    "    }\n",
    "    user_data_json = user_data.to_dict(orient=\"records\")\n",
    "    for row in user_data_json:        \n",
    "        current_user_name = row[\"user_name\"]\n",
    "        current_user = admins.get(current_user_name)\n",
    "        if not current_user:\n",
    "            current_user = deepcopy(schema)\n",
    "            current_user[\"email\"] = row[\"email\"]\n",
    "            current_user[\"fullname\"] = row[\"fullname\"]\n",
    "        \n",
    "        # Persist for next iteration\n",
    "        admins[current_user_name] = current_user\n",
    "        \n",
    "    return admins"
   ]
  },
  {
   "cell_type": "code",
   "execution_count": 26,
   "id": "8d28a9b1-6dbb-4076-9513-bc9b6e082e10",
   "metadata": {
    "tags": []
   },
   "outputs": [],
   "source": [
    "admins_data: pandas.DataFrame = pandas.read_sql(admins_get_query, engine)"
   ]
  },
  {
   "cell_type": "code",
   "execution_count": 27,
   "id": "990573e7-56c7-4359-b37f-059878ba5a96",
   "metadata": {
    "tags": []
   },
   "outputs": [],
   "source": [
    "admins_sanetized_data: pandas.DataFrame = pandas.read_csv(filepath_or_buffer=credentials[\"new\"][\"admins_list_path\"])"
   ]
  },
  {
   "cell_type": "markdown",
   "id": "287c0e43-cbc1-4762-9b9c-351c4f7830c1",
   "metadata": {},
   "source": [
    "Admin sanetized data has the following attributes\n",
    "\n",
    "1. user_name: CERN Username\n",
    "2. email: Primary alias email registered at CERN\n",
    "3. fullname: User fullname registered at CERN"
   ]
  },
  {
   "cell_type": "markdown",
   "id": "a422bb86-0b26-4320-a08c-f8b4c9ed6841",
   "metadata": {},
   "source": [
    "Fetch current admin logins"
   ]
  },
  {
   "cell_type": "code",
   "execution_count": 28,
   "id": "27e0fc46-f3c1-44fe-982d-e910c4855c51",
   "metadata": {
    "tags": []
   },
   "outputs": [],
   "source": [
    "admins_data_logins = list(admins_data[\"user_name\"])"
   ]
  },
  {
   "cell_type": "markdown",
   "id": "3753a5d0-a12d-45ca-a33d-3da7cd811977",
   "metadata": {
    "tags": []
   },
   "source": [
    "Retrieve the active subset"
   ]
  },
  {
   "cell_type": "code",
   "execution_count": 29,
   "id": "84bf50f9-843e-4019-9cfd-2e620f5d7f2d",
   "metadata": {
    "tags": []
   },
   "outputs": [],
   "source": [
    "admins_sanetized_data = admins_sanetized_data[admins_sanetized_data[\"user_name\"].isin(admins_data_logins)]"
   ]
  },
  {
   "cell_type": "markdown",
   "id": "ee142cc5-1dee-412e-a78b-565d4e49bfb7",
   "metadata": {},
   "source": [
    "Parse the data"
   ]
  },
  {
   "cell_type": "code",
   "execution_count": 30,
   "id": "90fd94a5-d38a-47e5-9331-3ac418820368",
   "metadata": {
    "tags": []
   },
   "outputs": [],
   "source": [
    "admin_data_parsed = parse_administrator_schema(user_data=admins_sanetized_data)"
   ]
  },
  {
   "cell_type": "markdown",
   "id": "64c72533-275f-45b9-a6a1-677d272d6c57",
   "metadata": {
    "tags": []
   },
   "source": [
    "Insert all admins"
   ]
  },
  {
   "cell_type": "code",
   "execution_count": 31,
   "id": "47bfdadc-5e51-4e0e-a3a4-c08fb0489ebb",
   "metadata": {},
   "outputs": [],
   "source": [
    "valdb_new_url = credentials[\"new\"][\"host_url\"]\n",
    "valdb_users = f\"{valdb_new_url}/api/users/\"\n",
    "valdb_admins_mig_errors = {}\n",
    "for username, info in admin_data_parsed.items():    \n",
    "    response = requests.post(url=valdb_users, json=info, cookies=cookies)\n",
    "    if response.status_code != 200:\n",
    "        valdb_admins_mig_errors[username] = {\n",
    "            \"body\": info,\n",
    "            \"response\": response\n",
    "        }"
   ]
  },
  {
   "cell_type": "markdown",
   "id": "b99925b6-fb38-4a73-b4bc-fee4bfdfda45",
   "metadata": {},
   "source": [
    "Display errors if they happened"
   ]
  },
  {
   "cell_type": "code",
   "execution_count": 32,
   "id": "d3828b3b-4985-4aaa-bfe8-f607327cc483",
   "metadata": {
    "tags": []
   },
   "outputs": [
    {
     "name": "stdout",
     "output_type": "stream",
     "text": [
      "Administrator user migration successfully\n"
     ]
    }
   ],
   "source": [
    "if not valdb_admins_mig_errors:\n",
    "    print(\"Administrator user migration successfully\")\n",
    "else:\n",
    "    for user, report in valdb_admins_mig_errors.items():\n",
    "        print(f\"Issues migrating user: {user} information\")\n",
    "        print(\"Request body sent\")\n",
    "        print(report)"
   ]
  },
  {
   "cell_type": "markdown",
   "id": "64a2f7c4-c154-496e-9df9-b739d165e39f",
   "metadata": {},
   "source": [
    "### Releases"
   ]
  },
  {
   "cell_type": "markdown",
   "id": "9939e341-264d-4a22-89bc-ff447152f9db",
   "metadata": {},
   "source": [
    "The data related to the release is splitted between the metadata and its details (status)"
   ]
  },
  {
   "cell_type": "code",
   "execution_count": 33,
   "id": "5384db21-7315-42a8-a606-2214ada4cef7",
   "metadata": {},
   "outputs": [],
   "source": [
    "releases_query = \"\"\"\n",
    "SELECT *\n",
    "FROM CMS_PDMV_VAL.RELEASES R, CMS_PDMV_VAL.STATUS S\n",
    "WHERE R.ID = S.ID\n",
    "\"\"\""
   ]
  },
  {
   "cell_type": "code",
   "execution_count": 34,
   "id": "b23c149a-9ba7-47be-9aef-186aad35a389",
   "metadata": {
    "tags": []
   },
   "outputs": [],
   "source": [
    "releases_data: pandas.DataFrame = pandas.read_sql(releases_query, engine)"
   ]
  },
  {
   "cell_type": "markdown",
   "id": "dd06571f-7373-449c-894e-ebe4ca1d25a6",
   "metadata": {},
   "source": [
    "Delete rows with unknown status kind"
   ]
  },
  {
   "cell_type": "code",
   "execution_count": 35,
   "id": "8094c892-6892-4822-a7c8-519aef73e715",
   "metadata": {
    "tags": []
   },
   "outputs": [],
   "source": [
    "releases_data[\"status_kind\"] = releases_data[\"status_kind\"].str.upper()\n",
    "releases_data = releases_data[releases_data[\"status_kind\"].isin(GROUPS_TOKENS.keys())]"
   ]
  },
  {
   "cell_type": "code",
   "execution_count": 36,
   "id": "051c0282-ae00-4b23-8b85-023e5695f4b3",
   "metadata": {
    "tags": []
   },
   "outputs": [],
   "source": [
    "def parse_releases_schema(releases_data: pandas.DataFrame) -> dict:\n",
    "    campaigns = {}\n",
    "    campaign_schema = {\n",
    "        \"name\": None,\n",
    "        \"description\": \"\",\n",
    "        \"deadline\": None,\n",
    "        \"target_release\": None,\n",
    "        \"reference_release\": None,\n",
    "        \"relmon\": None,\n",
    "        \"subcategories\": set(),\n",
    "        \"reports\": [],\n",
    "        \"is_open\": False        \n",
    "    }\n",
    "    report_schema = {\n",
    "        \"authors\": [],\n",
    "        \"group\": None,\n",
    "        \"campaign_name\": None,\n",
    "        \"status\": None,\n",
    "        \"content\": \"\"\n",
    "    }\n",
    "    releases_data_json = releases_data.to_dict(orient=\"records\")\n",
    "    for row in releases_data_json:\n",
    "            current_release_name = str(row[\"release_name\"])\n",
    "            current_campaign = campaigns.get(current_release_name)\n",
    "            release_date = row[\"date\"].to_pydatetime().date()\n",
    "            if not current_campaign:\n",
    "                current_campaign = deepcopy(campaign_schema)\n",
    "                current_campaign[\"name\"] = current_release_name\n",
    "                current_campaign[\"target_release\"] = current_release_name\n",
    "                current_campaign[\"reference_release\"] = current_release_name\n",
    "                current_campaign[\"deadline\"] = release_date\n",
    "                current_campaign[\"relmon\"] = row[\"relmon_url\"]\n",
    "\n",
    "            # Build the report object\n",
    "            # Do not take into consideration the authors for the moment\n",
    "            current_report = deepcopy(report_schema)\n",
    "\n",
    "            # Build group identifier\n",
    "            category = row[\"category\"]\n",
    "            subcategory = row[\"subcategory\"]\n",
    "            status_kind = row[\"status_kind\"]\n",
    "            \n",
    "            # Build Group Identifier\n",
    "            group_id = parse_group_id(\n",
    "                category=category,\n",
    "                subcategory=subcategory,\n",
    "                status_kind=status_kind\n",
    "            )\n",
    "\n",
    "            current_report[\"group\"] = group_id\n",
    "            current_report[\"campaign_name\"] = current_release_name\n",
    "            current_report[\"status\"] = REPORT_STATUS[row[\"validation_status\"].strip()]\n",
    "\n",
    "            comments = row[\"comments\"] if row[\"comments\"] else \"No comments provided\"\n",
    "            links = row[\"links\"] if row[\"links\"] else \"No links provided\"\n",
    "            links = \"\\n\".join([])\n",
    "            current_report[\"content\"] = f\"\"\"\n",
    "                Comments: {comments}\n",
    "                Links: {links}\n",
    "            \"\"\"\n",
    "            # Append the report and its group\n",
    "            current_campaign[\"reports\"] += [current_report]\n",
    "            subcategory_id = parse_group_id(\n",
    "                category=category,\n",
    "                subcategory=subcategory,\n",
    "            )\n",
    "            current_campaign[\"subcategories\"] = current_campaign[\"subcategories\"].union(set([subcategory_id]))\n",
    "            \n",
    "            # Final checks:\n",
    "            # 1. Always set the deadline with the latest available date\n",
    "            # 2. If the deadline date is after some reference date, set the campaign as open\n",
    "            if current_campaign[\"deadline\"] < release_date:\n",
    "                current_campaign[\"deadline\"] = release_date\n",
    "\n",
    "            if current_campaign[\"deadline\"] > DATE_REFERENCE:\n",
    "                current_campaign[\"is_open\"] = True\n",
    "\n",
    "            # Persist for next iteration\n",
    "            campaigns[current_release_name] = current_campaign\n",
    "        \n",
    "    return campaigns"
   ]
  },
  {
   "cell_type": "code",
   "execution_count": 37,
   "id": "13bf28d6-7590-4640-a3c4-cb13679aea62",
   "metadata": {
    "tags": []
   },
   "outputs": [
    {
     "name": "stderr",
     "output_type": "stream",
     "text": [
      "/tmp/ipykernel_27938/1166771334.py:21: UserWarning: DataFrame columns are not unique, some columns will be omitted.\n",
      "  releases_data_json = releases_data.to_dict(orient=\"records\")\n"
     ]
    }
   ],
   "source": [
    "releases_data_parsed = parse_releases_schema(releases_data=releases_data)\n",
    "releases_data_parsed = json.loads(json.dumps(releases_data_parsed, default=parse))"
   ]
  },
  {
   "cell_type": "markdown",
   "id": "99ccb1b7-1e86-4e60-abed-f320cef0ac1d",
   "metadata": {},
   "source": [
    "Insert all releases"
   ]
  },
  {
   "cell_type": "code",
   "execution_count": 38,
   "id": "a4f6c9dd-e491-4471-a3a2-bb96a52a308a",
   "metadata": {
    "tags": []
   },
   "outputs": [
    {
     "name": "stdout",
     "output_type": "stream",
     "text": [
      "Releases migrated successfully\n"
     ]
    }
   ],
   "source": [
    "valdb_new_url = credentials[\"new\"][\"host_url\"]\n",
    "valdb_migration_campaign = f\"{valdb_new_url}/api/campaigns/migrate/\"\n",
    "valdb_campaign_mig_errors = {}\n",
    "execute_migration = False\n",
    "if execute_migration:\n",
    "    for username, info in releases_data_parsed.items():    \n",
    "        response = requests.post(url=valdb_migration_campaign, json=info, cookies=cookies)\n",
    "        if response.status_code != 200:\n",
    "            valdb_campaign_mig_errors[username] = {\n",
    "                \"body\": info,\n",
    "                \"response\": response\n",
    "            }\n",
    "\n",
    "if not valdb_campaign_mig_errors:\n",
    "    print(\"Releases migrated successfully\")\n",
    "else:\n",
    "    for release, report in valdb_campaign_mig_errors.items():\n",
    "        print(f\"Issues migrating release: {release} information\")\n",
    "        print(\"Request body sent\")\n",
    "        print(report[\"response\"].json())\n",
    "        print(report[\"body\"])"
   ]
  }
 ],
 "metadata": {
  "kernelspec": {
   "display_name": "Python 3 (ipykernel)",
   "language": "python",
   "name": "python3"
  },
  "language_info": {
   "codemirror_mode": {
    "name": "ipython",
    "version": 3
   },
   "file_extension": ".py",
   "mimetype": "text/x-python",
   "name": "python",
   "nbconvert_exporter": "python",
   "pygments_lexer": "ipython3",
   "version": "3.11.1"
  }
 },
 "nbformat": 4,
 "nbformat_minor": 5
}
